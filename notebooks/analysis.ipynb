{
 "cells": [
  {
   "metadata": {},
   "cell_type": "markdown",
   "source": "# Telegram E-commerce Data Scraping and Preprocessing",
   "id": "c298faf1869cd3a2"
  },
  {
   "metadata": {
    "ExecuteTime": {
     "end_time": "2025-06-25T09:05:33.781626Z",
     "start_time": "2025-06-25T09:05:32.932673Z"
    }
   },
   "cell_type": "code",
   "source": [
    "import sys\n",
    "import os\n",
    "import asyncio\n",
    "\n",
    "# Add the src directory to the Python path\n",
    "sys.path.append(os.path.abspath('../src'))\n",
    "sys.path.append(os.path.abspath('../scripts'))\n",
    "\n",
    "from telegram_message_scraper import TelegramScraper\n",
    "from data_preprocessor import DataPreprocessor"
   ],
   "id": "88c1c494699f75f7",
   "outputs": [],
   "execution_count": 1
  },
  {
   "metadata": {},
   "cell_type": "markdown",
   "source": "## Data Scraping",
   "id": "5c09da971f2ac709"
  },
  {
   "metadata": {},
   "cell_type": "code",
   "source": [
    "channels = [\n",
    "    '@ZemenExpress', '@sinayelj', '@MerttEka', '@yebatochmregagroup',\n",
    "    '@helloomarketethiopia', '@Leyueqa', '@kstoreaddis', '@Fashiontera'\n",
    "]\n",
    "output_file = '../data/raw/telegram_data.csv'\n",
    "media_dir = '../data/raw/media'\n",
    "\n",
    "scraper = TelegramScraper()\n",
    "await scraper.scrape_channels(channels, output_file, media_dir)"
   ],
   "id": "4a302a420714af38",
   "outputs": [],
   "execution_count": null
  },
  {
   "metadata": {},
   "cell_type": "markdown",
   "source": "  ## Preprocessing",
   "id": "a7097b1844cc7a23"
  },
  {
   "metadata": {
    "ExecuteTime": {
     "end_time": "2025-06-25T09:05:37.547439Z",
     "start_time": "2025-06-25T09:05:37.237469Z"
    }
   },
   "cell_type": "code",
   "source": [
    "input_file = '../data/raw/telegram_messages.csv'\n",
    "output_file = '../data/processed/preprocessed_data.txt'\n",
    "preprocessor = DataPreprocessor()\n",
    "preprocessor.preprocess_data(input_file, output_file)"
   ],
   "id": "initial_id",
   "outputs": [
    {
     "name": "stdout",
     "output_type": "stream",
     "text": [
      "✅ Preprocessed data saved to ../data/processed/preprocessed_data.txt\n"
     ]
    }
   ],
   "execution_count": 2
  },
  {
   "metadata": {},
   "cell_type": "code",
   "source": "",
   "id": "785c2b0ec6bbb95c",
   "outputs": [],
   "execution_count": null
  }
 ],
 "metadata": {
  "kernelspec": {
   "display_name": "Python 3",
   "language": "python",
   "name": "python3"
  },
  "language_info": {
   "codemirror_mode": {
    "name": "ipython",
    "version": 2
   },
   "file_extension": ".py",
   "mimetype": "text/x-python",
   "name": "python",
   "nbconvert_exporter": "python",
   "pygments_lexer": "ipython2",
   "version": "2.7.6"
  }
 },
 "nbformat": 4,
 "nbformat_minor": 5
}
